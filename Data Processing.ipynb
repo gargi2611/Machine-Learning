{
 "cells": [
  {
   "cell_type": "code",
   "execution_count": null,
   "id": "9279cfa9",
   "metadata": {},
   "outputs": [],
   "source": [
    "#Data Preprocessing - getting data ready to train our model\n",
    "\n",
    "#IMPORTING LIBRARIES\n",
    "import numpy as np\n",
    "import matplotlib.pyplot as plt\n",
    "import pandas as pd\n",
    "\n",
    "#IMPORTING THE DATASET\n",
    "#It will read the dataset\n",
    "dataset = pd.read_csv('Data.csv')\n",
    "\n",
    "#iloc fuction is used to data selected from the row and columns format\n",
    "#data.iloc[<row-selection>, <col-selection>]\n",
    "# : it will represent the all data \n",
    "X = dataset.iloc[:, :-1] #'-1' represents last column\n",
    "Y = dataset.iloc[:,3]\n",
    "\n",
    "#SPLITTING THE DATASET INTO TRAINING & TEST SET (80-20 split)\n",
    "#using the test data for cross-validation\n",
    "# test size means the conversion of data into % goes to traning and testing\n",
    "from sklearn.cross_validation import train_test_split\n",
    "X_train, X_test, Y_train, Y_test = train_test_split(X, Y, test_size = 0.2, random_state = 0)\n",
    "#random_state=some-no allows same result to be reproduced \n",
    "#random state means the data will not shuffle\n",
    "\n",
    "#FEATURE SCALING\n",
    "from sklearn.preprocessing import StandardScaler \n",
    "sc_X = StandardScaler()\n",
    "X_train = sc_X.fit_transform(X_train)\n",
    "X_test = sc_X.transform(X_test)\n",
    "\n",
    "#Here the fit method, when applied to the training dataset,learns the model parameters \n",
    "#(for example, mean and standard deviation).\n",
    "#We apply fit on the training dataset and use the transform method on both \n",
    "#- the training dataset and the test dataset. Thus the training as well as the test dataset\n",
    "# are then transformed(scaled) using the model parameters that were learnt on applying the fit method \n",
    "#the training dataset."
   ]
  }
 ],
 "metadata": {
  "kernelspec": {
   "display_name": "Python 3 (ipykernel)",
   "language": "python",
   "name": "python3"
  },
  "language_info": {
   "codemirror_mode": {
    "name": "ipython",
    "version": 3
   },
   "file_extension": ".py",
   "mimetype": "text/x-python",
   "name": "python",
   "nbconvert_exporter": "python",
   "pygments_lexer": "ipython3",
   "version": "3.11.5"
  }
 },
 "nbformat": 4,
 "nbformat_minor": 5
}
