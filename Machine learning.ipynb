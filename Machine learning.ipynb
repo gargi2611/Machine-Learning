{
 "cells": [
  {
   "cell_type": "markdown",
   "id": "427806c0",
   "metadata": {},
   "source": [
    "# MachineLearning"
   ]
  },
  {
   "cell_type": "code",
   "execution_count": null,
   "id": "1fda22c6",
   "metadata": {},
   "outputs": [],
   "source": [
    "A collection of various algorithms under ML coded in Python."
   ]
  },
  {
   "cell_type": "markdown",
   "id": "7a1f4080",
   "metadata": {},
   "source": [
    "# Python Libraries"
   ]
  },
  {
   "cell_type": "code",
   "execution_count": null,
   "id": "f633a684",
   "metadata": {},
   "outputs": [],
   "source": [
    "Scikit-learn (sklearn) is a free software machine learning library for the Python programming language."
   ]
  },
  {
   "cell_type": "code",
   "execution_count": null,
   "id": "4834a805",
   "metadata": {},
   "outputs": [],
   "source": [
    "numPy: NumPy is the fundamental package(library) needed for scientific computing with Python.It provides:\n",
    "a powerful N-dimensional array object\n",
    "sophisticated (broadcasting) functions\n",
    "tools for integrating C/C++ and Fortran code\n",
    "useful linear algebra, Fourier transform, and random number capabilities\n",
    "source: https://github.com/numpy/numpy"
   ]
  },
  {
   "cell_type": "code",
   "execution_count": null,
   "id": "336ebaa2",
   "metadata": {},
   "outputs": [],
   "source": [
    "matplotlib.pyplot: It is a state-based interface to matplotlib. It provides a MATLAB-like way of plotting. pyplot is mainly intended for interactive plots and simple cases of programmatic plot generation. Matplotlib is a python library inspired by MATLAB whereas pyplot is a shell-like interface to matplotlib, to make it easier to use for people used to MATLAB.\n",
    "source: https://matplotlib.org/3.1.1/api/_as_gen/matplotlib.pyplot.html"
   ]
  },
  {
   "cell_type": "code",
   "execution_count": null,
   "id": "175e752c",
   "metadata": {},
   "outputs": [],
   "source": [
    "pandas: Pandas is a Python package providing fast, flexible, and expressive data structures designed to make working with \"relational\" or \"labeled\" data both easy and intuitive. It aims to be the fundamental high-level building block for doing practical, real world data analysis in Python. Additionally, it has the broader goal of becoming the most powerful and flexible open source data analysis/manipulation tool available in any language.\n",
    "source: https://github.com/pandas-dev/pandas"
   ]
  },
  {
   "cell_type": "markdown",
   "id": "9349239d",
   "metadata": {},
   "source": [
    "# Data Files"
   ]
  },
  {
   "cell_type": "code",
   "execution_count": null,
   "id": "bed18faf",
   "metadata": {},
   "outputs": [],
   "source": [
    ".csv files: A comma-separated values file is a delimited text file that uses a comma to separate values. A CSV file stores tabular data in plain text. Each line of the file is a data record. Each record consists of one or more fields, separated by commas.\n",
    "Classes"
   ]
  },
  {
   "cell_type": "code",
   "execution_count": null,
   "id": "91da810d",
   "metadata": {},
   "outputs": [],
   "source": [
    "LabelEncoder: It is used to convert categorical text data into model-understandable numerical data."
   ]
  },
  {
   "cell_type": "code",
   "execution_count": null,
   "id": "1c13d7ed",
   "metadata": {},
   "outputs": [],
   "source": [
    "OneHotEncoder: Used to solve the problem of categorical data converting into hierarchial data that label Encoding creates. It takes a column which has categorical data, which has been label encoded, and then splits the column into multiple columns. [labelencoder vs onehotencoder]"
   ]
  },
  {
   "cell_type": "markdown",
   "id": "9e1e7664",
   "metadata": {},
   "source": [
    "#Functions"
   ]
  },
  {
   "cell_type": "code",
   "execution_count": null,
   "id": "ecef6ac2",
   "metadata": {},
   "outputs": [],
   "source": [
    "Fit(): calculates the value of parameters.\n",
    "Transform(): Fits data according to the parameter values."
   ]
  },
  {
   "cell_type": "code",
   "execution_count": null,
   "id": "32c62c45",
   "metadata": {},
   "outputs": [],
   "source": [
    "Fit_transform(): Calculates paramteres according to data and then transforms it.\n",
    "Visualizing Results"
   ]
  },
  {
   "cell_type": "code",
   "execution_count": null,
   "id": "eb5f7a53",
   "metadata": {},
   "outputs": [],
   "source": [
    "scatter(): Matplot has a built-in function to create scatterplots called scatter(). A scatter plot is a type of plot that shows the data as a collection of points.\n",
    "eg- plt.scatter(x_coordinates, y_coordinates, color = 'any_color', alpha = {0-1..opacity})"
   ]
  },
  {
   "cell_type": "code",
   "execution_count": null,
   "id": "c4a42a22",
   "metadata": {},
   "outputs": [],
   "source": [
    "plot(): Plots y versus x as lines and/or markers.\n",
    "eg- plt.plot(x_coordinates, y_coordinates, color = 'any_color')"
   ]
  },
  {
   "cell_type": "code",
   "execution_count": null,
   "id": "f59167d4",
   "metadata": {},
   "outputs": [],
   "source": [
    "show(): Function displays the current figure that you are working on. [show() vs draw()]\n",
    "eg- plt.show()"
   ]
  },
  {
   "cell_type": "code",
   "execution_count": null,
   "id": "af9fb662",
   "metadata": {},
   "outputs": [],
   "source": [
    "draw(): This will re-draw the figure. This allows you to work in interactive mode and, should you have changed your data or formatting, allow the graph itself to change.\n",
    "eg- plt.draw();"
   ]
  }
 ],
 "metadata": {
  "kernelspec": {
   "display_name": "Python 3 (ipykernel)",
   "language": "python",
   "name": "python3"
  },
  "language_info": {
   "codemirror_mode": {
    "name": "ipython",
    "version": 3
   },
   "file_extension": ".py",
   "mimetype": "text/x-python",
   "name": "python",
   "nbconvert_exporter": "python",
   "pygments_lexer": "ipython3",
   "version": "3.11.5"
  }
 },
 "nbformat": 4,
 "nbformat_minor": 5
}
