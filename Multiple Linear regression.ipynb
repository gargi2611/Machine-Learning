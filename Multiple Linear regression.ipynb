{
 "cells": [
  {
   "cell_type": "code",
   "execution_count": null,
   "id": "7997d430",
   "metadata": {},
   "outputs": [],
   "source": [
    "import numpy as np\n",
    "import matplotlib.pyplot as plt\n",
    "import pandas as pd\n",
    "\n",
    "\n",
    "dataset = pd.read_csv('50_Startups.csv')\n",
    "X = dataset.iloc[:, :-1].values\n",
    "Y = dataset.iloc[:,4].values\n",
    "\n",
    "\n",
    "#ENCODING CATEGORICAL DATA\n",
    "from sklearn.preprocessing import LabelEncoder, OneHotEncoder\n",
    "labelencoder_X = LabelEncoder()\n",
    "X[:, 3] = labelencoder_X.fit_transform(X[:, 3])\n",
    "onehotencoder = OneHotEncoder(categorical_features = [3])\n",
    "X = onehotencoder.fit_transform(X).toarray()\n",
    "\n",
    "#AVOIDING DUMMY VARIABLE TRAP\n",
    "#some columns representing indices may be treated as features for model\n",
    "X = X[:, 1:]\n",
    "\n",
    "#SPLITTING\n",
    "from sklearn.cross_validation import train_test_split\n",
    "X_train, X_test, Y_train, Y_test = train_test_split(X, Y, test_size = 0.2, random_state = 0)\n",
    "\n",
    "#FITTING MULTIPLE REGRESSION TO TRAINING SET\n",
    "from sklearn.linear_model import LinearRegression\n",
    "regressor = LinearRegression()\n",
    "regressor.fit(X_train, Y_train)\n",
    "\n",
    "#can't plot our predictions because it'll be 5-dimensional(5 features)\n",
    "\n",
    "#PREDICTING TEST SET RESULTS\n",
    "Y_pred = regressor.predict(X_test)\n",
    "\n",
    "#BACKWARD ELIMINATIONH FOR OPTIMAL MODEL\n",
    "#import statsmodels.formula.api as sm\n",
    "#X = np.append(arr = np.ones((50, 1)).astype(int), values = X, axis = 1)\n",
    "#X_opt = X[:, [0,1,2,3,4,5]]"
   ]
  }
 ],
 "metadata": {
  "kernelspec": {
   "display_name": "Python 3 (ipykernel)",
   "language": "python",
   "name": "python3"
  },
  "language_info": {
   "codemirror_mode": {
    "name": "ipython",
    "version": 3
   },
   "file_extension": ".py",
   "mimetype": "text/x-python",
   "name": "python",
   "nbconvert_exporter": "python",
   "pygments_lexer": "ipython3",
   "version": "3.11.5"
  }
 },
 "nbformat": 4,
 "nbformat_minor": 5
}
